{
 "cells": [
  {
   "cell_type": "markdown",
   "metadata": {},
   "source": [
    "# Partitions in Spark"
   ]
  },
  {
   "cell_type": "code",
   "execution_count": 48,
   "metadata": {},
   "outputs": [],
   "source": [
    "import os\n",
    "from pyspark import SparkContext, SparkConf\n",
    "import json\n",
    "from pprint import pprint\n",
    "import random"
   ]
  },
  {
   "cell_type": "code",
   "execution_count": 2,
   "metadata": {},
   "outputs": [],
   "source": [
    "def initSC(cores, memory):\n",
    "    \"\"\"\n",
    "    Función que inicializa SparkContext\n",
    "    \"\"\"\n",
    "    conf = SparkConf()\\\n",
    "           .setAppName(f\"AppName {cores} cores {memory} mem\")\n",
    "           # .set('spark.cores.max', cores)\\\n",
    "           # .set('spark.executorEnv.PYTHONHASHSEED',\"123\")\\\n",
    "           # .set('spark.executor.memory', memory)\n",
    "    sc = SparkContext(conf=conf)\n",
    "    sc.setLogLevel(\"ERROR\")\n",
    "    #sc.addPyFile(\"py.zip\")\n",
    "    return sc"
   ]
  },
  {
   "cell_type": "code",
   "execution_count": 3,
   "metadata": {
    "scrolled": true
   },
   "outputs": [
    {
     "data": {
      "text/html": [
       "\n",
       "        <div>\n",
       "            <p><b>SparkContext</b></p>\n",
       "\n",
       "            <p><a href=\"http://192.168.1.44:4041\">Spark UI</a></p>\n",
       "\n",
       "            <dl>\n",
       "              <dt>Version</dt>\n",
       "                <dd><code>v3.1.1</code></dd>\n",
       "              <dt>Master</dt>\n",
       "                <dd><code>local[*]</code></dd>\n",
       "              <dt>AppName</dt>\n",
       "                <dd><code>AppName 0 cores 0 mem</code></dd>\n",
       "            </dl>\n",
       "        </div>\n",
       "        "
      ],
      "text/plain": [
       "<SparkContext master=local[*] appName=AppName 0 cores 0 mem>"
      ]
     },
     "execution_count": 3,
     "metadata": {},
     "output_type": "execute_result"
    }
   ],
   "source": [
    "sc = initSC(0,0)\n",
    "sc"
   ]
  },
  {
   "cell_type": "markdown",
   "metadata": {},
   "source": [
    "### Visualizar particiones de los datos.\n",
    "1. Número de particiones de tu RDD: **getNumPartitions()**\n",
    "2. Ver los datos de cada una de las particiones: **glom()**"
   ]
  },
  {
   "cell_type": "code",
   "execution_count": 62,
   "metadata": {
    "scrolled": true
   },
   "outputs": [
    {
     "name": "stdout",
     "output_type": "stream",
     "text": [
      "Número de particiones en las que se divide el rdd: 8\n"
     ]
    }
   ],
   "source": [
    "# Número predefinido (por Python) de particiones.\n",
    "data = range(2,100000000,2)\n",
    "rdd = sc.parallelize(data)\n",
    "print(f\"Número de particiones en las que se divide el rdd: {rdd.getNumPartitions()}\")\n",
    "#print(f\"Algunos ejemplos de particiones del rdd son: {rdd.glom().collect()[1:2]}\")"
   ]
  },
  {
   "cell_type": "code",
   "execution_count": 65,
   "metadata": {},
   "outputs": [
    {
     "name": "stdout",
     "output_type": "stream",
     "text": [
      "El número de particiones predefinido por el sistema es: 8\n",
      "El número de particiones definidas por el usuario son: 15\n"
     ]
    },
    {
     "data": {
      "text/plain": [
       "49999999"
      ]
     },
     "execution_count": 65,
     "metadata": {},
     "output_type": "execute_result"
    }
   ],
   "source": [
    "# Número de particiones definido por el usuario \n",
    "rdd = sc.parallelize(data)\n",
    "print(f\"El número de particiones predefinido por el sistema es: {rdd.getNumPartitions()}\")\n",
    "num_partitions = 15\n",
    "rdd1 = rdd.repartition(num_partitions)\n",
    "print(f\"El número de particiones definidas por el usuario son: {rdd1.getNumPartitions()}\")\n",
    "rdd1.count()\n",
    "\n",
    "\n",
    "# En este caso, particionamos 2 veces; primero creamos el rdd con el número de particiones predefinido por el sistema,\n",
    "# para después reparticionarlo en el número de particiones deseado por el usuario (num_partitions).\n",
    "# Por lo que esperamos que el tiempo de ejecución sea más alto que en el siguiente."
   ]
  },
  {
   "cell_type": "code",
   "execution_count": 66,
   "metadata": {},
   "outputs": [
    {
     "name": "stdout",
     "output_type": "stream",
     "text": [
      "El número de particiones definidas por el usuario son: 15\n"
     ]
    },
    {
     "data": {
      "text/plain": [
       "49999999"
      ]
     },
     "execution_count": 66,
     "metadata": {},
     "output_type": "execute_result"
    }
   ],
   "source": [
    "#--------------------------------------------\n",
    "# En este caso, definimos directamente el rdd con el número de particiones deseado.\n",
    "# Por lo que esperamos que el tiempo de ejecución sea más alto que el anterior.\n",
    "\n",
    "num_partitions = 15\n",
    "rdd2 = sc.parallelize(data,num_partitions)\n",
    "print(f\"El número de particiones definidas por el usuario son: {rdd2.getNumPartitions()}\")\n",
    "rdd2.count()"
   ]
  },
  {
   "cell_type": "code",
   "execution_count": 75,
   "metadata": {},
   "outputs": [
    {
     "data": {
      "text/plain": [
       "pyspark.rdd.PipelinedRDD"
      ]
     },
     "execution_count": 75,
     "metadata": {},
     "output_type": "execute_result"
    }
   ],
   "source": [
    "type(rdd2)"
   ]
  },
  {
   "cell_type": "markdown",
   "metadata": {},
   "source": [
    "Tras analizarlo en el Spark UI, podemos ver que el primer collect() lleva **18s**, mientras que el segundo collect() tarda **1s** en computarse."
   ]
  },
  {
   "cell_type": "code",
   "execution_count": 77,
   "metadata": {},
   "outputs": [
    {
     "name": "stdout",
     "output_type": "stream",
     "text": [
      "None\n"
     ]
    }
   ],
   "source": [
    "print(rdd2.partitioner)"
   ]
  }
 ],
 "metadata": {
  "kernelspec": {
   "display_name": "Python 3",
   "language": "python",
   "name": "python3"
  },
  "language_info": {
   "codemirror_mode": {
    "name": "ipython",
    "version": 3
   },
   "file_extension": ".py",
   "mimetype": "text/x-python",
   "name": "python",
   "nbconvert_exporter": "python",
   "pygments_lexer": "ipython3",
   "version": "3.8.10"
  }
 },
 "nbformat": 4,
 "nbformat_minor": 4
}
