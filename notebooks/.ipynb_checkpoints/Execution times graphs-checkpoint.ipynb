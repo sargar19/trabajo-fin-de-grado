{
 "cells": [
  {
   "cell_type": "code",
   "execution_count": 31,
   "metadata": {},
   "outputs": [],
   "source": [
    "import pandas as pd\n",
    "from datetime import datetime\n",
    "import numpy as np\n",
    "import glob, os\n",
    "import matplotlib.pyplot as plt"
   ]
  },
  {
   "cell_type": "code",
   "execution_count": 32,
   "metadata": {},
   "outputs": [],
   "source": [
    "cd = os.getcwd()\n",
    "log_directory = os.path.join(os.sep.join(cd.split(os.path.sep)[:-1]), 'output', 'logs')\n",
    "log_files = glob.glob(os.path.join(log_directory, \"*.csv\"))"
   ]
  },
  {
   "cell_type": "code",
   "execution_count": 33,
   "metadata": {},
   "outputs": [],
   "source": [
    "log_files = glob.glob(os.path.join(log_directory, \"*.csv\"))\n",
    "df = pd.concat(pd.read_csv(file, sep = ';') for file in log_files)\n",
    "# Filter out all apps except for narrow_transformations app\n",
    "df = df.loc[df['App Name'].str.contains('app_narrow_transf_')]\n",
    "df_app_ids = pd.DataFrame(df.drop_duplicates('App ID').reset_index (drop = True)[['App ID', 'App Name']])"
   ]
  },
  {
   "cell_type": "code",
   "execution_count": 34,
   "metadata": {},
   "outputs": [],
   "source": [
    "group_by = df.loc[(df['Name'] == 'APPLICATION START') | (df['Name'] == 'APPLICATION END')].groupby('App ID')\n",
    "execution_times = pd.DataFrame(group_by.agg({'Datetime': lambda x: list(x)}).reset_index(drop = False)['Datetime'].\\\n",
    "                apply(lambda x: (datetime.strptime(x[1], '%Y-%m-%d %H:%M:%S.%f') - datetime.strptime(x[0], '%Y-%m-%d %H:%M:%S.%f')).total_seconds()))\n",
    "execution_times = df_app_ids.join(execution_times).rename(columns = {'Datetime': 'Total app execution time (s)'})"
   ]
  },
  {
   "cell_type": "code",
   "execution_count": 35,
   "metadata": {},
   "outputs": [],
   "source": [
    "execution_times['Size percentage'] = execution_times['App Name'].map(lambda x: int(x.split('_')[-2]))\n",
    "execution_times['Transformation'] = execution_times['App Name'].map(lambda x: x.split('_')[0])"
   ]
  },
  {
   "cell_type": "markdown",
   "metadata": {},
   "source": [
    "### 1. Transformation = map / filter"
   ]
  },
  {
   "cell_type": "code",
   "execution_count": 36,
   "metadata": {},
   "outputs": [
    {
     "data": {
      "text/html": [
       "<div>\n",
       "<style scoped>\n",
       "    .dataframe tbody tr th:only-of-type {\n",
       "        vertical-align: middle;\n",
       "    }\n",
       "\n",
       "    .dataframe tbody tr th {\n",
       "        vertical-align: top;\n",
       "    }\n",
       "\n",
       "    .dataframe thead th {\n",
       "        text-align: right;\n",
       "    }\n",
       "</style>\n",
       "<table border=\"1\" class=\"dataframe\">\n",
       "  <thead>\n",
       "    <tr style=\"text-align: right;\">\n",
       "      <th></th>\n",
       "      <th>App ID</th>\n",
       "      <th>App Name</th>\n",
       "      <th>Total app execution time (s)</th>\n",
       "      <th>Size percentage</th>\n",
       "      <th>Transformation</th>\n",
       "    </tr>\n",
       "  </thead>\n",
       "  <tbody>\n",
       "    <tr>\n",
       "      <th>0</th>\n",
       "      <td>app-20230628213527-3714</td>\n",
       "      <td>map_app_narrow_transf_gsod_sample_071_1.txt</td>\n",
       "      <td>7.387</td>\n",
       "      <td>71</td>\n",
       "      <td>map</td>\n",
       "    </tr>\n",
       "    <tr>\n",
       "      <th>1</th>\n",
       "      <td>app-20230628212857-3657</td>\n",
       "      <td>map_app_narrow_transf_gsod_sample_013_1.txt</td>\n",
       "      <td>6.140</td>\n",
       "      <td>13</td>\n",
       "      <td>map</td>\n",
       "    </tr>\n",
       "    <tr>\n",
       "      <th>2</th>\n",
       "      <td>app-20230628211654-3559</td>\n",
       "      <td>map_app_narrow_transf_gsod_sample_003_1.txt</td>\n",
       "      <td>6.045</td>\n",
       "      <td>3</td>\n",
       "      <td>map</td>\n",
       "    </tr>\n",
       "    <tr>\n",
       "      <th>3</th>\n",
       "      <td>app-20230628212836-3654</td>\n",
       "      <td>map_app_narrow_transf_gsod_sample_009_1.txt</td>\n",
       "      <td>6.237</td>\n",
       "      <td>9</td>\n",
       "      <td>map</td>\n",
       "    </tr>\n",
       "  </tbody>\n",
       "</table>\n",
       "</div>"
      ],
      "text/plain": [
       "                    App ID                                     App Name  \\\n",
       "0  app-20230628213527-3714  map_app_narrow_transf_gsod_sample_071_1.txt   \n",
       "1  app-20230628212857-3657  map_app_narrow_transf_gsod_sample_013_1.txt   \n",
       "2  app-20230628211654-3559  map_app_narrow_transf_gsod_sample_003_1.txt   \n",
       "3  app-20230628212836-3654  map_app_narrow_transf_gsod_sample_009_1.txt   \n",
       "\n",
       "   Total app execution time (s)  Size percentage Transformation  \n",
       "0                         7.387               71            map  \n",
       "1                         6.140               13            map  \n",
       "2                         6.045                3            map  \n",
       "3                         6.237                9            map  "
      ]
     },
     "execution_count": 36,
     "metadata": {},
     "output_type": "execute_result"
    }
   ],
   "source": [
    "map_execution_times = execution_times.loc[execution_times['Transformation'] == 'map']\n",
    "filter_execution_times = execution_times.loc[execution_times['Transformation'] == 'filter']"
   ]
  },
  {
   "cell_type": "code",
   "execution_count": 37,
   "metadata": {},
   "outputs": [
    {
     "name": "stdout",
     "output_type": "stream",
     "text": [
      "0.0011402456112817648\n"
     ]
    },
    {
     "data": {
      "image/png": "[encoded data removed]",
      "text/plain": [
       "<Figure size 432x288 with 1 Axes>"
      ]
     },
     "metadata": {
      "needs_background": "light"
     },
     "output_type": "display_data"
    }
   ],
   "source": [
    "x = map_execution_times['Size percentage']\n",
    "y = map_execution_times['Total app execution time (s)']\n",
    "m, b = np.polyfit(x, y, 1)\n",
    "print(m)\n",
    "\n",
    "plt.plot(x, y, 'o ', color = 'blue')#, xlabel = 'Total file size percentage', ylabel = 'Total execution time (s)')\n",
    "plt.plot(x, y, 'o', x, m*x+b, '-')\n",
    "\n",
    "plt.show()"
   ]
  },
  {
   "cell_type": "markdown",
   "metadata": {},
   "source": [
    "### 2. Transformation = filter"
   ]
  },
  {
   "cell_type": "code",
   "execution_count": null,
   "metadata": {},
   "outputs": [],
   "source": [
    "filter_execution_times.head(4)"
   ]
  }
 ],
 "metadata": {
  "kernelspec": {
   "display_name": "Python 3",
   "language": "python",
   "name": "python3"
  },
  "language_info": {
   "codemirror_mode": {
    "name": "ipython",
    "version": 3
   },
   "file_extension": ".py",
   "mimetype": "text/x-python",
   "name": "python",
   "nbconvert_exporter": "python",
   "pygments_lexer": "ipython3",
   "version": "3.8.10"
  }
 },
 "nbformat": 4,
 "nbformat_minor": 4
}
